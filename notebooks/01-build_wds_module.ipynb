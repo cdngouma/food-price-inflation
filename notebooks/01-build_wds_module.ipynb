{
 "cells": [
  {
   "cell_type": "code",
   "execution_count": 2,
   "id": "8fb99b0b-a331-4a58-aeb1-048329c2106c",
   "metadata": {},
   "outputs": [],
   "source": [
    "import requests\n",
    "import pandas as pd\n",
    "import numpy as np\n",
    "from itertools import product"
   ]
  },
  {
   "cell_type": "code",
   "execution_count": 3,
   "id": "9e1244f4-2a1d-4bba-b119-5d38269a7b24",
   "metadata": {},
   "outputs": [],
   "source": [
    "BASE = \"https://www150.statcan.gc.ca/t1/wds/rest\""
   ]
  },
  {
   "cell_type": "code",
   "execution_count": 4,
   "id": "22a72182-ced2-4708-9013-677244580452",
   "metadata": {},
   "outputs": [],
   "source": [
    "def getCubeMetadata(pid):\n",
    "    url = f'{BASE}/getCubeMetadata'\n",
    "    payload = [{\"productId\": pid}]\n",
    "    response = requests.post(url, json=payload)\n",
    "    response.raise_for_status()\n",
    "    \n",
    "    data = response.json()\n",
    "    if not isinstance(data, list) or not data:\n",
    "        raise ValueError(f\"Unexpected payload: {data}\")\n",
    "        \n",
    "    item = data[0]\n",
    "    if item.get(\"status\") != \"SUCCESS\":\n",
    "        # WDS-level error even though HTTP was 200\n",
    "        raise RuntimeError(f\"WDS error: {item.get('status')} | {item.get('object')}\")\n",
    "    return item[\"object\"]"
   ]
  },
  {
   "cell_type": "code",
   "execution_count": 5,
   "id": "b43bb51d-88e0-436d-a9b1-ce526fe1af10",
   "metadata": {},
   "outputs": [],
   "source": [
    "def previewDimensions(pid, target=\"names\", dimName=None):\n",
    "    meta = getCubeMetadata(pid)\n",
    "    dimensions = {\n",
    "        dim[\"dimensionNameEn\"]: {\n",
    "            \"position\": dim[\"dimensionPositionId\"], \n",
    "            \"values\": { m[\"memberNameEn\"]: m[\"memberId\"] for m in dim[\"member\"] }\n",
    "        } for dim in meta[\"dimension\"]\n",
    "    }\n",
    "\n",
    "    if target == \"full\":\n",
    "        print(dimensions)\n",
    "    elif target == \"names\":\n",
    "        dim_names = {dim: dimensions[dim].get(\"position\") for dim in dimensions}\n",
    "        print(dim_names)\n",
    "    elif target == \"values\":\n",
    "        if dimName is None or dimName not in dimensions.keys():\n",
    "            raise ValueError(f\"{dimName} is a valid dimension.\")\n",
    "        for name,dim in dimensions.items():\n",
    "            if name == dimName:\n",
    "                print(dim[\"values\"])\n",
    "                break"
   ]
  },
  {
   "cell_type": "code",
   "execution_count": 6,
   "id": "589355e6-086f-4506-bd3a-1c7cfd2a4b9f",
   "metadata": {},
   "outputs": [],
   "source": [
    "def buildCoordinates(pid, series_coords):\n",
    "    # Get table metadata\n",
    "    meta = getCubeMetadata(pid)\n",
    "\n",
    "    # Build dimension mapping\n",
    "    dim_mapping = {\n",
    "        dim[\"dimensionNameEn\"]: {\n",
    "            \"position\": dim[\"dimensionPositionId\"], \n",
    "            \"values\": { m[\"memberNameEn\"]: m[\"memberId\"] for m in dim[\"member\"] }\n",
    "        } for dim in meta[\"dimension\"]\n",
    "    }\n",
    "\n",
    "    # Mapp column names and values to coordinate\n",
    "    coordinates = []\n",
    "    for series in series_coords:\n",
    "        coords = ['0']*10\n",
    "        for k,v in series.items():\n",
    "            dim = dim_mapping.get(k)\n",
    "            if dim is None:\n",
    "                print(f\"Warning: Could not locate dimension '{k}'\")\n",
    "                coords = None\n",
    "                break\n",
    "            pos = dim[\"position\"]\n",
    "            value = dim[\"values\"].get(v)\n",
    "            if value is None:\n",
    "                print(f\"Warning: No '{v}' found for the dimension '{k}'\")\n",
    "                coords = None\n",
    "                break\n",
    "            coords[int(pos)-1] = str(value)\n",
    "        if coords:\n",
    "            coordinates.append(\".\".join(coords))\n",
    "    \n",
    "    return coordinates, { dim: int(v[\"position\"]) for dim,v in dim_mapping.items() }  "
   ]
  },
  {
   "cell_type": "code",
   "execution_count": 7,
   "id": "dcdce6fd-cff7-416a-bc76-791db5f1ef31",
   "metadata": {},
   "outputs": [],
   "source": [
    "def expand_specs(series_spec):\n",
    "    pairs = []\n",
    "    for dim in series_spec:\n",
    "        (k,v), = dim.items()\n",
    "        vals = v if isinstance(v, (list, tuple)) else [v]\n",
    "        pairs.append((k, list(vals)))\n",
    "    keys = [k for k,_ in pairs]\n",
    "    value_lists = [vals for _,vals in pairs]\n",
    "    return [dict(zip(keys, combo)) for combo in product(*value_lists)]"
   ]
  },
  {
   "cell_type": "code",
   "execution_count": 22,
   "id": "e3d0b6e3-30c9-4cb5-be4f-fe8e1b2a14b2",
   "metadata": {},
   "outputs": [],
   "source": [
    "def getVectorIds(pid, coords):\n",
    "    # Translate coordiantes to vectors\n",
    "    if len(coords) > 0:\n",
    "        vec_payload = [{\"productId\": pid, \"coordinate\": c} for c in coords]\n",
    "    else:\n",
    "        raise Exception(\"Invalid coordinates. Please specify all required dimensions\")\n",
    "    series = requests.post(f\"{BASE}/getSeriesInfoFromCubePidCoord\", json=vec_payload).json()\n",
    "    vec_map = { s[\"object\"][\"vectorId\"]: s[\"object\"][\"SeriesTitleEn\"] for s in series if s[\"object\"][\"vectorId\"] != 0 }\n",
    "\n",
    "    if not vec_map:\n",
    "        raise Exception(f\"Failed to retrieve vectors for coordinates: {coords}. Please specify all required dimensions\")\n",
    "\n",
    "    return vec_map"
   ]
  },
  {
   "cell_type": "code",
   "execution_count": 25,
   "id": "2d3691b2-c2ab-42e7-a7a2-f9dc8f27c1cb",
   "metadata": {},
   "outputs": [],
   "source": [
    "def getTableData(pid, series_specs, startRefPerid=\"2000-01-01\", endRefPeriod=\"2025-12-31\"):\n",
    "    expanded_specs = expand_specs(series_specs)\n",
    "    \n",
    "    # Build coordinates based on series specification\n",
    "    coords, dim_map = buildCoordinates(pid, expanded_specs)\n",
    "    \n",
    "    # Get vectors\n",
    "    vec_map = getVectorIds(pid, coords)\n",
    "\n",
    "    vectorIds = \",\".join([ f'\"{v}\"' for v in vec_map.keys()])\n",
    "    series = requests.get(\n",
    "        f\"{BASE}/getDataFromVectorByReferencePeriodRange?vectorIds={vectorIds}&startRefPeriod={startRefPerid}&endReferencePeriod={endRefPeriod}\"\n",
    "    ).json()\n",
    "\n",
    "    final_df = None\n",
    "\n",
    "    for s in series:\n",
    "        vId = s[\"object\"].get(\"vectorId\")\n",
    "        index_cols = [list(spec.keys())[0] for spec in series_specs]\n",
    "        index_cols.sort(key=lambda col: dim_map.get(col, float('inf')))\n",
    "        index_vals = vec_map[vId].split(\";\")\n",
    "        row_index = {k:v for k,v in zip(index_cols, index_vals) if k in dim_map.keys()}\n",
    "        \n",
    "        dataPoints = s[\"object\"].get(\"vectorDataPoint\")\n",
    "        rows = []\n",
    "        for pt in dataPoints:\n",
    "            value = pt[\"value\"]\n",
    "            ref_date = pt[\"refPer\"]\n",
    "            row = row_index | { \"REF_DATE\": ref_date, \"VALUE\": value }\n",
    "            rows.append(row)\n",
    "        df = pd.DataFrame(rows)\n",
    "        final_df = pd.concat([final_df, df], ignore_index=True)\n",
    "\n",
    "    return final_df"
   ]
  },
  {
   "cell_type": "markdown",
   "id": "fe435172-cc16-4b1d-9f81-a6d7e5237cc3",
   "metadata": {},
   "source": [
    "## Tests"
   ]
  },
  {
   "cell_type": "code",
   "execution_count": 10,
   "id": "1fdcdc35-1f3f-4941-9b88-62cdb97667c3",
   "metadata": {},
   "outputs": [
    {
     "name": "stdout",
     "output_type": "stream",
     "text": [
      "{'Geography': {'position': 1, 'values': {'Canada': 1, 'Newfoundland and Labrador': 2, 'Prince Edward Island': 3, 'Nova Scotia': 4, 'New Brunswick': 5, 'Quebec': 6, 'Ontario': 7, 'Manitoba': 8, 'Saskatchewan': 9, 'Alberta': 10, 'British Columbia': 11}}, 'Labour force characteristics': {'position': 2, 'values': {'Population': 1, 'Labour force': 2, 'Employment': 3, 'Full-time employment': 4, 'Part-time employment': 5, 'Unemployment': 6, 'Unemployment rate': 7, 'Participation rate': 8, 'Employment rate': 9}}, 'Gender': {'position': 3, 'values': {'Total - Gender': 1, 'Men+': 2, 'Women+': 3}}, 'Age group': {'position': 4, 'values': {'15 years and over': 1, '15 to 64 years': 8, '15 to 24 years': 2, '15 to 19 years': 3, '20 to 24 years': 4, '25 years and over': 5, '25 to 54 years': 6, '55 years and over': 7, '55 to 64 years': 9}}, 'Statistics': {'position': 5, 'values': {'Estimate': 1, 'Standard error of estimate': 2, 'Standard error of month-to-month change': 3, 'Standard error of year-over-year change': 4}}, 'Data type': {'position': 6, 'values': {'Seasonally adjusted': 1, 'Trend-cycle': 3, 'Unadjusted': 2}}}\n"
     ]
    }
   ],
   "source": [
    "previewDimensions(pid=14100287, target=\"full\")"
   ]
  },
  {
   "cell_type": "code",
   "execution_count": 11,
   "id": "20eeb3f8-c7d5-4f0a-a246-eb35ede7d456",
   "metadata": {},
   "outputs": [
    {
     "name": "stdout",
     "output_type": "stream",
     "text": [
      "{'Geography': 1, 'Labour force characteristics': 2, 'Gender': 3, 'Age group': 4, 'Statistics': 5, 'Data type': 6}\n"
     ]
    }
   ],
   "source": [
    "previewDimensions(pid=14100287, target=\"names\")"
   ]
  },
  {
   "cell_type": "code",
   "execution_count": 12,
   "id": "74330994-de4d-4b83-9762-ca8a34a0cf7a",
   "metadata": {},
   "outputs": [
    {
     "name": "stdout",
     "output_type": "stream",
     "text": [
      "{'Canada': 1, 'Newfoundland and Labrador': 2, 'Prince Edward Island': 3, 'Nova Scotia': 4, 'New Brunswick': 5, 'Quebec': 6, 'Ontario': 7, 'Manitoba': 8, 'Saskatchewan': 9, 'Alberta': 10, 'British Columbia': 11}\n"
     ]
    }
   ],
   "source": [
    "previewDimensions(pid=14100287, target=\"values\", dimName=\"Geography\")"
   ]
  },
  {
   "cell_type": "code",
   "execution_count": 13,
   "id": "3613bbbc-8db8-4a57-beb1-a0615b56c6ee",
   "metadata": {},
   "outputs": [],
   "source": [
    "labour_data_specs = [\n",
    "    {\"Geography\": [\"Quebec\"]},\n",
    "    {\"Labour force characteristics\": [\"Employment rate\", \"Unemployment rate\"]},\n",
    "    {\"Data type\": [\"Seasonally adjusted\"]},\n",
    "    {\"Statistics\": [\"Estimate\"]},\n",
    "    {\"Gender\": [\"Total - Gender\"]},\n",
    "    {\"Age group\": \"15 years and over\"}\n",
    "]"
   ]
  },
  {
   "cell_type": "code",
   "execution_count": 14,
   "id": "5854cd3c-ccf8-47cf-9301-7df051bb0eb6",
   "metadata": {},
   "outputs": [
    {
     "name": "stdout",
     "output_type": "stream",
     "text": [
      "CPU times: total: 0 ns\n",
      "Wall time: 0 ns\n"
     ]
    }
   ],
   "source": [
    "%time\n",
    "labour_tab = getTableData(pid=14100287, series_specs=labour_data_specs, startRefPerid=\"2000-01-01\", endRefPeriod=\"2025-12-31\")"
   ]
  },
  {
   "cell_type": "code",
   "execution_count": 15,
   "id": "e3201c85-95a7-4007-92e1-4e6832dca299",
   "metadata": {},
   "outputs": [
    {
     "data": {
      "text/html": [
       "<div>\n",
       "<style scoped>\n",
       "    .dataframe tbody tr th:only-of-type {\n",
       "        vertical-align: middle;\n",
       "    }\n",
       "\n",
       "    .dataframe tbody tr th {\n",
       "        vertical-align: top;\n",
       "    }\n",
       "\n",
       "    .dataframe thead th {\n",
       "        text-align: right;\n",
       "    }\n",
       "</style>\n",
       "<table border=\"1\" class=\"dataframe\">\n",
       "  <thead>\n",
       "    <tr style=\"text-align: right;\">\n",
       "      <th></th>\n",
       "      <th>Geography</th>\n",
       "      <th>Labour force characteristics</th>\n",
       "      <th>Gender</th>\n",
       "      <th>Age group</th>\n",
       "      <th>Statistics</th>\n",
       "      <th>Data type</th>\n",
       "      <th>REF_DATE</th>\n",
       "      <th>VALUE</th>\n",
       "    </tr>\n",
       "  </thead>\n",
       "  <tbody>\n",
       "    <tr>\n",
       "      <th>0</th>\n",
       "      <td>Quebec</td>\n",
       "      <td>Unemployment rate</td>\n",
       "      <td>Total - Gender</td>\n",
       "      <td>15 years and over</td>\n",
       "      <td>Estimate</td>\n",
       "      <td>Seasonally adjusted</td>\n",
       "      <td>2000-01-01</td>\n",
       "      <td>8.2</td>\n",
       "    </tr>\n",
       "    <tr>\n",
       "      <th>1</th>\n",
       "      <td>Quebec</td>\n",
       "      <td>Unemployment rate</td>\n",
       "      <td>Total - Gender</td>\n",
       "      <td>15 years and over</td>\n",
       "      <td>Estimate</td>\n",
       "      <td>Seasonally adjusted</td>\n",
       "      <td>2000-02-01</td>\n",
       "      <td>8.5</td>\n",
       "    </tr>\n",
       "    <tr>\n",
       "      <th>2</th>\n",
       "      <td>Quebec</td>\n",
       "      <td>Unemployment rate</td>\n",
       "      <td>Total - Gender</td>\n",
       "      <td>15 years and over</td>\n",
       "      <td>Estimate</td>\n",
       "      <td>Seasonally adjusted</td>\n",
       "      <td>2000-03-01</td>\n",
       "      <td>8.5</td>\n",
       "    </tr>\n",
       "    <tr>\n",
       "      <th>3</th>\n",
       "      <td>Quebec</td>\n",
       "      <td>Unemployment rate</td>\n",
       "      <td>Total - Gender</td>\n",
       "      <td>15 years and over</td>\n",
       "      <td>Estimate</td>\n",
       "      <td>Seasonally adjusted</td>\n",
       "      <td>2000-04-01</td>\n",
       "      <td>8.6</td>\n",
       "    </tr>\n",
       "    <tr>\n",
       "      <th>4</th>\n",
       "      <td>Quebec</td>\n",
       "      <td>Unemployment rate</td>\n",
       "      <td>Total - Gender</td>\n",
       "      <td>15 years and over</td>\n",
       "      <td>Estimate</td>\n",
       "      <td>Seasonally adjusted</td>\n",
       "      <td>2000-05-01</td>\n",
       "      <td>8.3</td>\n",
       "    </tr>\n",
       "    <tr>\n",
       "      <th>...</th>\n",
       "      <td>...</td>\n",
       "      <td>...</td>\n",
       "      <td>...</td>\n",
       "      <td>...</td>\n",
       "      <td>...</td>\n",
       "      <td>...</td>\n",
       "      <td>...</td>\n",
       "      <td>...</td>\n",
       "    </tr>\n",
       "    <tr>\n",
       "      <th>609</th>\n",
       "      <td>Quebec</td>\n",
       "      <td>Employment rate</td>\n",
       "      <td>Total - Gender</td>\n",
       "      <td>15 years and over</td>\n",
       "      <td>Estimate</td>\n",
       "      <td>Seasonally adjusted</td>\n",
       "      <td>2025-03-01</td>\n",
       "      <td>61.3</td>\n",
       "    </tr>\n",
       "    <tr>\n",
       "      <th>610</th>\n",
       "      <td>Quebec</td>\n",
       "      <td>Employment rate</td>\n",
       "      <td>Total - Gender</td>\n",
       "      <td>15 years and over</td>\n",
       "      <td>Estimate</td>\n",
       "      <td>Seasonally adjusted</td>\n",
       "      <td>2025-04-01</td>\n",
       "      <td>61.4</td>\n",
       "    </tr>\n",
       "    <tr>\n",
       "      <th>611</th>\n",
       "      <td>Quebec</td>\n",
       "      <td>Employment rate</td>\n",
       "      <td>Total - Gender</td>\n",
       "      <td>15 years and over</td>\n",
       "      <td>Estimate</td>\n",
       "      <td>Seasonally adjusted</td>\n",
       "      <td>2025-05-01</td>\n",
       "      <td>61.1</td>\n",
       "    </tr>\n",
       "    <tr>\n",
       "      <th>612</th>\n",
       "      <td>Quebec</td>\n",
       "      <td>Employment rate</td>\n",
       "      <td>Total - Gender</td>\n",
       "      <td>15 years and over</td>\n",
       "      <td>Estimate</td>\n",
       "      <td>Seasonally adjusted</td>\n",
       "      <td>2025-06-01</td>\n",
       "      <td>61.3</td>\n",
       "    </tr>\n",
       "    <tr>\n",
       "      <th>613</th>\n",
       "      <td>Quebec</td>\n",
       "      <td>Employment rate</td>\n",
       "      <td>Total - Gender</td>\n",
       "      <td>15 years and over</td>\n",
       "      <td>Estimate</td>\n",
       "      <td>Seasonally adjusted</td>\n",
       "      <td>2025-07-01</td>\n",
       "      <td>61.1</td>\n",
       "    </tr>\n",
       "  </tbody>\n",
       "</table>\n",
       "<p>614 rows × 8 columns</p>\n",
       "</div>"
      ],
      "text/plain": [
       "    Geography Labour force characteristics          Gender          Age group  \\\n",
       "0      Quebec            Unemployment rate  Total - Gender  15 years and over   \n",
       "1      Quebec            Unemployment rate  Total - Gender  15 years and over   \n",
       "2      Quebec            Unemployment rate  Total - Gender  15 years and over   \n",
       "3      Quebec            Unemployment rate  Total - Gender  15 years and over   \n",
       "4      Quebec            Unemployment rate  Total - Gender  15 years and over   \n",
       "..        ...                          ...             ...                ...   \n",
       "609    Quebec              Employment rate  Total - Gender  15 years and over   \n",
       "610    Quebec              Employment rate  Total - Gender  15 years and over   \n",
       "611    Quebec              Employment rate  Total - Gender  15 years and over   \n",
       "612    Quebec              Employment rate  Total - Gender  15 years and over   \n",
       "613    Quebec              Employment rate  Total - Gender  15 years and over   \n",
       "\n",
       "    Statistics            Data type    REF_DATE  VALUE  \n",
       "0     Estimate  Seasonally adjusted  2000-01-01    8.2  \n",
       "1     Estimate  Seasonally adjusted  2000-02-01    8.5  \n",
       "2     Estimate  Seasonally adjusted  2000-03-01    8.5  \n",
       "3     Estimate  Seasonally adjusted  2000-04-01    8.6  \n",
       "4     Estimate  Seasonally adjusted  2000-05-01    8.3  \n",
       "..         ...                  ...         ...    ...  \n",
       "609   Estimate  Seasonally adjusted  2025-03-01   61.3  \n",
       "610   Estimate  Seasonally adjusted  2025-04-01   61.4  \n",
       "611   Estimate  Seasonally adjusted  2025-05-01   61.1  \n",
       "612   Estimate  Seasonally adjusted  2025-06-01   61.3  \n",
       "613   Estimate  Seasonally adjusted  2025-07-01   61.1  \n",
       "\n",
       "[614 rows x 8 columns]"
      ]
     },
     "execution_count": 15,
     "metadata": {},
     "output_type": "execute_result"
    }
   ],
   "source": [
    "labour_tab"
   ]
  },
  {
   "cell_type": "code",
   "execution_count": null,
   "id": "2b8d9bc7-f09d-42f3-a077-af1e7373ed65",
   "metadata": {},
   "outputs": [],
   "source": []
  }
 ],
 "metadata": {
  "kernelspec": {
   "display_name": "Python 3 (ipykernel)",
   "language": "python",
   "name": "python3"
  },
  "language_info": {
   "codemirror_mode": {
    "name": "ipython",
    "version": 3
   },
   "file_extension": ".py",
   "mimetype": "text/x-python",
   "name": "python",
   "nbconvert_exporter": "python",
   "pygments_lexer": "ipython3",
   "version": "3.9.20"
  }
 },
 "nbformat": 4,
 "nbformat_minor": 5
}
